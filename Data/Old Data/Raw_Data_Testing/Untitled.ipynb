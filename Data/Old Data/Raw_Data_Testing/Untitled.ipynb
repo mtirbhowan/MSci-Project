{
 "cells": [
  {
   "cell_type": "code",
   "execution_count": 76,
   "metadata": {},
   "outputs": [],
   "source": [
    "from pandas import read_csv\n",
    "import matplotlib.pyplot as plt\n",
    "import numpy as np\n",
    "import more_itertools as mit\n",
    "from scipy import interpolate"
   ]
  },
  {
   "cell_type": "code",
   "execution_count": 77,
   "metadata": {},
   "outputs": [
    {
     "data": {
      "text/html": [
       "<div>\n",
       "<style scoped>\n",
       "    .dataframe tbody tr th:only-of-type {\n",
       "        vertical-align: middle;\n",
       "    }\n",
       "\n",
       "    .dataframe tbody tr th {\n",
       "        vertical-align: top;\n",
       "    }\n",
       "\n",
       "    .dataframe thead th {\n",
       "        text-align: right;\n",
       "    }\n",
       "</style>\n",
       "<table border=\"1\" class=\"dataframe\">\n",
       "  <thead>\n",
       "    <tr style=\"text-align: right;\">\n",
       "      <th></th>\n",
       "      <th>Unnamed: 0</th>\n",
       "      <th>Load Cell 1</th>\n",
       "      <th>Load Cell 2</th>\n",
       "      <th>Load Cell 3</th>\n",
       "      <th>Load Cell 4</th>\n",
       "    </tr>\n",
       "  </thead>\n",
       "  <tbody>\n",
       "    <tr>\n",
       "      <th>0</th>\n",
       "      <td>0</td>\n",
       "      <td>150550</td>\n",
       "      <td>157438</td>\n",
       "      <td>-8081</td>\n",
       "      <td>301578</td>\n",
       "    </tr>\n",
       "    <tr>\n",
       "      <th>1</th>\n",
       "      <td>1</td>\n",
       "      <td>150585</td>\n",
       "      <td>157232</td>\n",
       "      <td>-7919</td>\n",
       "      <td>301522</td>\n",
       "    </tr>\n",
       "    <tr>\n",
       "      <th>2</th>\n",
       "      <td>2</td>\n",
       "      <td>150279</td>\n",
       "      <td>157328</td>\n",
       "      <td>-7971</td>\n",
       "      <td>301630</td>\n",
       "    </tr>\n",
       "    <tr>\n",
       "      <th>3</th>\n",
       "      <td>3</td>\n",
       "      <td>150399</td>\n",
       "      <td>157469</td>\n",
       "      <td>-8056</td>\n",
       "      <td>301707</td>\n",
       "    </tr>\n",
       "    <tr>\n",
       "      <th>4</th>\n",
       "      <td>4</td>\n",
       "      <td>150431</td>\n",
       "      <td>157475</td>\n",
       "      <td>-8161</td>\n",
       "      <td>301636</td>\n",
       "    </tr>\n",
       "  </tbody>\n",
       "</table>\n",
       "</div>"
      ],
      "text/plain": [
       "   Unnamed: 0 Load Cell 1 Load Cell 2 Load Cell 3 Load Cell 4\n",
       "0           0      150550      157438       -8081      301578\n",
       "1           1      150585      157232       -7919      301522\n",
       "2           2      150279      157328       -7971      301630\n",
       "3           3      150399      157469       -8056      301707\n",
       "4           4      150431      157475       -8161      301636"
      ]
     },
     "execution_count": 77,
     "metadata": {},
     "output_type": "execute_result"
    }
   ],
   "source": [
    "df = read_csv('2kg(2).csv')\n",
    "df.head()"
   ]
  },
  {
   "cell_type": "code",
   "execution_count": 78,
   "metadata": {},
   "outputs": [],
   "source": [
    "col = 'Load Cell 1'\n",
    "filter_param1 = -3500\n",
    "filter_param2 = -2000\n",
    "y = df[col]\n",
    "\n",
    "y = y.replace(to_replace='False', value=np.nan).map(float)\n",
    "z = y.copy()\n",
    "x = np.linspace(0, len(y)-1, len(y))\n"
   ]
  },
  {
   "cell_type": "code",
   "execution_count": 79,
   "metadata": {},
   "outputs": [
    {
     "data": {
      "image/png": "[encoded data removed]",
      "text/plain": [
       "<Figure size 432x288 with 1 Axes>"
      ]
     },
     "metadata": {
      "needs_background": "light"
     },
     "output_type": "display_data"
    }
   ],
   "source": [
    "plt.plot(x,y,'r',label='Original Data')\n",
    "plt.legend()\n",
    "plt.show()"
   ]
  },
  {
   "cell_type": "code",
   "execution_count": 80,
   "metadata": {},
   "outputs": [
    {
     "data": {
      "text/plain": [
       "3"
      ]
     },
     "execution_count": 80,
     "metadata": {},
     "output_type": "execute_result"
    }
   ],
   "source": [
    "NaNs = np.where(np.isnan(y))[0]\n",
    "len(NaNs)"
   ]
  },
  {
   "cell_type": "code",
   "execution_count": 81,
   "metadata": {},
   "outputs": [],
   "source": [
    "delta_y = np.asarray([y.iloc[i+1]-y.iloc[i] for i in range(len(y)-1)])\n"
   ]
  },
  {
   "cell_type": "code",
   "execution_count": 82,
   "metadata": {},
   "outputs": [
    {
     "name": "stderr",
     "output_type": "stream",
     "text": [
      "C:\\Users\\mtirb\\AppData\\Local\\Continuum\\anaconda3\\lib\\site-packages\\ipykernel_launcher.py:1: RuntimeWarning: invalid value encountered in less\n",
      "  \"\"\"Entry point for launching an IPython kernel.\n"
     ]
    },
    {
     "data": {
      "text/plain": [
       "65"
      ]
     },
     "execution_count": 82,
     "metadata": {},
     "output_type": "execute_result"
    }
   ],
   "source": [
    "spikes = np.where(delta_y < filter_param1)[0]\n",
    "len(spikes)"
   ]
  },
  {
   "cell_type": "code",
   "execution_count": 83,
   "metadata": {},
   "outputs": [
    {
     "name": "stderr",
     "output_type": "stream",
     "text": [
      "C:\\Users\\mtirb\\AppData\\Local\\Continuum\\anaconda3\\lib\\site-packages\\ipykernel_launcher.py:1: RuntimeWarning: invalid value encountered in greater\n",
      "  \"\"\"Entry point for launching an IPython kernel.\n"
     ]
    },
    {
     "data": {
      "text/plain": [
       "124"
      ]
     },
     "execution_count": 83,
     "metadata": {},
     "output_type": "execute_result"
    }
   ],
   "source": [
    "spikes_abs = np.where(abs(delta_y) > abs(filter_param1))[0]\n",
    "len(spikes_abs)"
   ]
  },
  {
   "cell_type": "markdown",
   "metadata": {},
   "source": [
    "### Method 1: Using original method of delta_y & delta_y2"
   ]
  },
  {
   "cell_type": "code",
   "execution_count": 84,
   "metadata": {},
   "outputs": [
    {
     "data": {
      "text/plain": [
       "68"
      ]
     },
     "execution_count": 84,
     "metadata": {},
     "output_type": "execute_result"
    }
   ],
   "source": [
    "anomalies = np.sort(np.unique(np.concatenate((spikes, NaNs))))\n",
    "\n",
    "for positions in anomalies:\n",
    "    y[positions] = np.nan\n",
    "\n",
    "len(anomalies)"
   ]
  },
  {
   "cell_type": "markdown",
   "metadata": {},
   "source": [
    "delta_y and NaNs removed"
   ]
  },
  {
   "cell_type": "code",
   "execution_count": 85,
   "metadata": {},
   "outputs": [
    {
     "data": {
      "image/png": "[encoded data removed]",
      "text/plain": [
       "<Figure size 432x288 with 1 Axes>"
      ]
     },
     "metadata": {
      "needs_background": "light"
     },
     "output_type": "display_data"
    }
   ],
   "source": [
    "plt.plot(x,y,'g',label='delta_y & NaN')\n",
    "plt.legend()\n",
    "plt.show()"
   ]
  },
  {
   "cell_type": "code",
   "execution_count": 86,
   "metadata": {},
   "outputs": [
    {
     "name": "stderr",
     "output_type": "stream",
     "text": [
      "C:\\Users\\mtirb\\AppData\\Local\\Continuum\\anaconda3\\lib\\site-packages\\ipykernel_launcher.py:2: RuntimeWarning: invalid value encountered in less\n",
      "  \n"
     ]
    },
    {
     "data": {
      "text/plain": [
       "44"
      ]
     },
     "execution_count": 86,
     "metadata": {},
     "output_type": "execute_result"
    }
   ],
   "source": [
    "delta_y2 = np.asarray([y[i]-y[i+1] for i in range(len(y)-1)])\n",
    "spikes2 = (np.where(delta_y2 < filter_param2)[0])\n",
    "len(spikes2)"
   ]
  },
  {
   "cell_type": "code",
   "execution_count": 87,
   "metadata": {},
   "outputs": [],
   "source": [
    "for positions in spikes2:\n",
    "    y[positions] = np.nan"
   ]
  },
  {
   "cell_type": "code",
   "execution_count": 88,
   "metadata": {},
   "outputs": [
    {
     "data": {
      "image/png": "[encoded data removed]",
      "text/plain": [
       "<Figure size 432x288 with 1 Axes>"
      ]
     },
     "metadata": {
      "needs_background": "light"
     },
     "output_type": "display_data"
    }
   ],
   "source": [
    "plt.plot(x,y,'b',label='all removed')\n",
    "plt.legend()\n",
    "plt.show()"
   ]
  },
  {
   "cell_type": "code",
   "execution_count": 89,
   "metadata": {},
   "outputs": [],
   "source": [
    "all_anomalies = np.sort(np.concatenate((anomalies,spikes2)))\n",
    "\n",
    "# group up indicies of consecutive anomalies\n",
    "grouped = [list(group) for group in mit.consecutive_groups(all_anomalies)]\n",
    "\n",
    "# do stuff in anomaly indicies depending on if they are single or \n",
    "# consecutive\n",
    "for sections in grouped:\n",
    "    \n",
    "    # solo anomalies\n",
    "    if len(sections) == 1:\n",
    "        index = sections[0]\n",
    "        # Replace with average of neighbours\n",
    "        y[index] = 0.5*(y[index+1]+y[index-1])\n",
    "    \n",
    "    # consecutive anomalies\n",
    "    else:\n",
    "        lower_index = sections[0]\n",
    "        upper_index = sections[-1]\n",
    "        \n",
    "        # take slice of original data for y vals around the NaN values\n",
    "        y_temp = np.array(y[lower_index-3: upper_index+2]) \n",
    "        x_temp = np.arange(0,len(y_temp))\n",
    "\n",
    "        \n",
    "        # Find NaNs in y_temp (must be a quicker way \n",
    "        #    bc they have already been found)\n",
    "        find_NaNs = np.argwhere(np.isnan(y_temp))\n",
    "        \n",
    "        # Get rid of array of arrays\n",
    "        find_NaNs = np.concatenate(find_NaNs, axis=0)\n",
    "        \n",
    "        # Delete NaN rows for x and y \n",
    "        x_temp = np.delete(x_temp,find_NaNs)\n",
    "        y_temp = np.delete(y_temp,find_NaNs)\n",
    "        \n",
    "        # Interpolate stats on slice of data\n",
    "        f = interpolate.interp1d(x_temp, y_temp, kind='slinear')\n",
    "        \n",
    "        # Calculate NaN replacements by feeding in their x values\n",
    "        interpolated_y = list(f(find_NaNs))   # use interpolation function returned by `interp1d`\n",
    "\n",
    "        # Finally, replace NaN values with interpolated values            \n",
    "        y[lower_index:upper_index+1] = interpolated_y \n"
   ]
  },
  {
   "cell_type": "code",
   "execution_count": 90,
   "metadata": {},
   "outputs": [
    {
     "data": {
      "image/png": "[encoded data removed]",
      "text/plain": [
       "<Figure size 432x288 with 1 Axes>"
      ]
     },
     "metadata": {
      "needs_background": "light"
     },
     "output_type": "display_data"
    }
   ],
   "source": [
    "plt.plot(x,y,'--b', label='Method 1')\n",
    "plt.legend()\n",
    "plt.show()"
   ]
  },
  {
   "cell_type": "code",
   "execution_count": 97,
   "metadata": {},
   "outputs": [
    {
     "name": "stdout",
     "output_type": "stream",
     "text": [
      "124 3 127\n"
     ]
    },
    {
     "name": "stderr",
     "output_type": "stream",
     "text": [
      "C:\\Users\\mtirb\\AppData\\Local\\Continuum\\anaconda3\\lib\\site-packages\\ipykernel_launcher.py:1: RuntimeWarning: invalid value encountered in greater\n",
      "  \"\"\"Entry point for launching an IPython kernel.\n"
     ]
    },
    {
     "data": {
      "text/plain": [
       "array([ 67,  68,  69,  70,  71,  72,  73,  74,  75,  77,  78,  89,  91,\n",
       "        93,  94,  96,  97,  98, 100, 101, 102, 103, 104, 105, 106, 107,\n",
       "       108, 110, 111, 112, 113, 151, 152, 153, 154, 156, 157, 158, 163,\n",
       "       221, 222, 223, 224, 225, 226, 228, 229, 230, 231, 232, 233, 283,\n",
       "       284, 287, 288, 289, 290, 291, 292, 293, 294, 295, 297, 299, 300,\n",
       "       302, 304, 361, 362, 363, 364, 365, 366, 367, 368, 378, 382, 383,\n",
       "       384, 417, 418, 419, 420, 421, 422, 423, 544, 545, 607, 608, 609,\n",
       "       612, 613, 615, 616, 617, 618, 619, 621, 622, 630, 634, 639, 645,\n",
       "       646, 647, 648, 649, 652, 653, 666, 667, 668, 669, 670, 671, 723,\n",
       "       933, 934, 980, 981, 984, 985, 986], dtype=int64)"
      ]
     },
     "execution_count": 97,
     "metadata": {},
     "output_type": "execute_result"
    }
   ],
   "source": [
    "spikes_abs = np.where(abs(delta_y) > abs(filter_param1))[0]\n",
    "anomalies = np.sort(np.unique(np.concatenate((spikes_abs, NaNs))))\n",
    "print(len(spikes_abs), len(NaNs), len(anomalies))\n",
    "spikes_abs"
   ]
  },
  {
   "cell_type": "code",
   "execution_count": 92,
   "metadata": {},
   "outputs": [],
   "source": [
    "for positions in anomalies:\n",
    "    z[positions] = np.nan"
   ]
  },
  {
   "cell_type": "code",
   "execution_count": 93,
   "metadata": {},
   "outputs": [
    {
     "data": {
      "image/png": "[encoded data removed]",
      "text/plain": [
       "<Figure size 432x288 with 1 Axes>"
      ]
     },
     "metadata": {
      "needs_background": "light"
     },
     "output_type": "display_data"
    }
   ],
   "source": [
    "plt.plot(x,z,'g',label='abs removed')\n",
    "plt.legend()\n",
    "plt.show()"
   ]
  },
  {
   "cell_type": "code",
   "execution_count": 94,
   "metadata": {},
   "outputs": [],
   "source": [
    "# group up indicies of consecutive anomalies\n",
    "grouped = [list(group) for group in mit.consecutive_groups(anomalies)]\n",
    "\n",
    "# do stuff in anomaly indicies depending on if they are single or \n",
    "# consecutive\n",
    "for sections in grouped:\n",
    "    \n",
    "    # solo anomalies\n",
    "    if len(sections) == 1:\n",
    "        index = sections[0]\n",
    "        # Replace with average of neighbours\n",
    "        z[index] = 0.5*(z[index+1]+z[index-1])\n",
    "    \n",
    "    # consecutive anomalies\n",
    "    else:\n",
    "        lower_index = sections[0]\n",
    "        upper_index = sections[-1]\n",
    "        \n",
    "        # take slice of original data for y vals around the NaN values\n",
    "        z_temp = np.array(z[lower_index-3: upper_index+2]) \n",
    "        x_temp = np.arange(0,len(z_temp))\n",
    "\n",
    "        \n",
    "        # Find NaNs in y_temp (must be a quicker way \n",
    "        #    bc they have already been found)\n",
    "        find_NaNs = np.argwhere(np.isnan(z_temp))\n",
    "        \n",
    "        # Get rid of array of arrays\n",
    "        find_NaNs = np.concatenate(find_NaNs, axis=0)\n",
    "        \n",
    "        # Delete NaN rows for x and y \n",
    "        x_temp = np.delete(x_temp,find_NaNs)\n",
    "        z_temp = np.delete(z_temp,find_NaNs)\n",
    "        \n",
    "        # Interpolate stats on slice of data\n",
    "        f = interpolate.interp1d(x_temp, z_temp, kind='slinear')\n",
    "        \n",
    "        # Calculate NaN replacements by feeding in their x values\n",
    "        interpolated_z = list(f(find_NaNs))   # use interpolation function returned by `interp1d`\n",
    "\n",
    "        # Finally, replace NaN values with interpolated values            \n",
    "        z[lower_index:upper_index+1] = interpolated_z "
   ]
  },
  {
   "cell_type": "code",
   "execution_count": 95,
   "metadata": {},
   "outputs": [
    {
     "data": {
      "image/png": "[encoded data removed]",
      "text/plain": [
       "<Figure size 432x288 with 1 Axes>"
      ]
     },
     "metadata": {
      "needs_background": "light"
     },
     "output_type": "display_data"
    }
   ],
   "source": [
    "plt.plot(x,y,'--b', label='Method 2')\n",
    "plt.legend()\n",
    "plt.show()"
   ]
  },
  {
   "cell_type": "code",
   "execution_count": 96,
   "metadata": {},
   "outputs": [
    {
     "data": {
      "text/plain": [
       "(array([ 67,  68,  73,  74,  75,  86,  89,  90,  91,  92,  93,  94, 151,\n",
       "        152, 153, 154, 165, 228, 229, 230, 231, 232, 233, 283, 284, 287,\n",
       "        288, 289, 290, 291, 292, 293, 417, 418, 441, 544, 545, 607, 608,\n",
       "        609, 620, 621, 622, 626, 633, 634, 636, 983, 984, 985, 986],\n",
       "       dtype=int64),)"
      ]
     },
     "execution_count": 96,
     "metadata": {},
     "output_type": "execute_result"
    }
   ],
   "source": [
    "np.where((np.asarray(z)-np.asarray(y))<0)"
   ]
  },
  {
   "cell_type": "code",
   "execution_count": null,
   "metadata": {},
   "outputs": [],
   "source": []
  }
 ],
 "metadata": {
  "kernelspec": {
   "display_name": "Python 3",
   "language": "python",
   "name": "python3"
  },
  "language_info": {
   "codemirror_mode": {
    "name": "ipython",
    "version": 3
   },
   "file_extension": ".py",
   "mimetype": "text/x-python",
   "name": "python",
   "nbconvert_exporter": "python",
   "pygments_lexer": "ipython3",
   "version": "3.7.7"
  }
 },
 "nbformat": 4,
 "nbformat_minor": 4
}
